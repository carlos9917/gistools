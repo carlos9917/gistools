{
 "cells": [
  {
   "cell_type": "code",
   "execution_count": 33,
   "id": "c32b6f10-49f0-4266-b7d7-8c6f0aeacd9e",
   "metadata": {},
   "outputs": [],
   "source": [
    "#Plotting shadow. Using this example: https://gis.stackexchange.com/questions/229293/shadow-impact-of-building-on-certain-area\n",
    "# Note that the comment about South in the above link is wrong, according to pysolar documentation\n",
    "\n",
    "from pysolar import solar\n",
    "import datetime\n",
    "from vapory import Camera, LightSource, Sphere, Texture, Pigment, Scene, Plane, Box, Finish, Normal\n",
    "from math import sin, cos, radians\n",
    "\n",
    "def sun_location(altitude, azimuth, from_point, dist_to_sun=100):\n",
    "    \"\"\"given an altitude and azimuth to the sun, an assumed\n",
    "    distance to the sun of 100, and a point of origin \n",
    "    find the XYZ location of the sun\n",
    "    Note: the reference system from pysolar is:\n",
    "    http://pysolar.readthedocs.io/en/latest/index.html#location-calculation\n",
    "    The azimuth to the sun is realtive to North. \n",
    "    Zero deg is the north, and azimuth is measure clockwise from there\n",
    "    \"\"\"\n",
    "\n",
    "    x_from, y_from, z_from = from_point\n",
    "    # \n",
    "    x_sun = dist_to_sun * sin(radians(azimuth-270))\n",
    "    y_sun = dist_to_sun * sin(radians(altitude))\n",
    "    z_sun = dist_to_sun * cos(radians(azimuth-270))\n",
    "\n",
    "    return x_sun, y_sun, z_sun\n",
    "\n",
    "\n",
    "def display_shadow(latitude,longitude,day):\n",
    "    DAY=day[0]\n",
    "    MONTH=day[1]\n",
    "    YEAR=day[2]\n",
    "    HOUR=day[3]\n",
    "    MIN=day[4]\n",
    "    # calculate the sun's position in the sky on a given day\n",
    "    d = datetime.datetime(YEAR,MONTH,DAY,HOUR,MIN,tzinfo=datetime.timezone.utc)\n",
    "    altitude = solar.get_altitude(latitude,longitude, d)\n",
    "    azimuth = solar.get_azimuth(latitude,longitude, d)\n",
    "    sun_loc = sun_location(altitude, azimuth, [0,0,0], dist_to_sun=100)\n",
    "    print(f\"Altitude on {d}: {altitude}\")\n",
    "\n",
    "    # create a light source for the scene with the sun's location\n",
    "    light = LightSource( sun_loc, 'color', [1,1,1] )\n",
    "\n",
    "    # set up some scene elements\n",
    "    camera = Camera( 'location', [0,2,-3], 'look_at', [0,0,2] )\n",
    "\n",
    "    plane = Plane([0, 1, 0], 0, Texture( Pigment( 'color', [1,1,1] )))\n",
    "\n",
    "    building = Box([0,0,0], [0.5, 0.5, 0.5],\n",
    "                             Texture( Pigment( 'color', [0.5,0.5,0.5])),\n",
    "                            'rotate', [0, 40, 0])\n",
    "\n",
    "    # set up the scene in POV-Ray with the given elements\n",
    "    scene = Scene( camera = camera ,\n",
    "               objects= [light, plane, building],\n",
    "               included = [\"colors.inc\"]) # headers that POV-Ray may need\n",
    "\n",
    "    #scene.render(\"my_scene.png\",\n",
    "    #    width = 600, height=400,\n",
    "    #    antialiasing = 0.01,\n",
    "    #    quality=10) # quality=1 => no shadow/reflection, quality=10 is 'normal'\n",
    "    return scene\n",
    "\n"
   ]
  },
  {
   "cell_type": "code",
   "execution_count": 41,
   "id": "c2b60487-eaec-4c7f-8569-09fd5cde5b63",
   "metadata": {},
   "outputs": [
    {
     "name": "stdout",
     "output_type": "stream",
     "text": [
      "Altitude on 2020-02-01 08:00:00+00:00: 5.236699374590609\n",
      "Altitude on 2020-02-01 09:00:00+00:00: 11.09605577346645\n",
      "Altitude on 2020-02-01 10:00:00+00:00: 15.372106362141205\n",
      "Altitude on 2020-02-01 11:00:00+00:00: 17.66860522834899\n",
      "Altitude on 2020-02-01 12:00:00+00:00: 17.757407456303874\n",
      "Altitude on 2020-02-01 13:00:00+00:00: 15.629637237706552\n",
      "Altitude on 2020-02-01 14:00:00+00:00: 11.498683921674127\n",
      "Altitude on 2020-02-01 15:00:00+00:00: 5.7483273999841025\n",
      "Altitude on 2020-02-01 16:00:00+00:00: -1.4799410553047312\n"
     ]
    }
   ],
   "source": [
    "## Example values for station in Denmark\n",
    "latitude = 54.87610\n",
    "longitude = 10.349734\n",
    "DAY=1\n",
    "MONTH=2\n",
    "YEAR=2020\n",
    "HOUR=10\n",
    "MIN=0\n",
    "scenes=[]\n",
    "HOURS=[i for i in range(8,17)]\n",
    "for HOUR in HOURS:\n",
    "    day=(DAY,MONTH,YEAR,HOUR,MIN)\n",
    "    scene=display_shadow(latitude,longitude,day)\n",
    "    scenes.append(scene)\n",
    "    \n",
    "    \n"
   ]
  },
  {
   "cell_type": "code",
   "execution_count": 31,
   "id": "ba75ef65-7134-4566-9238-027131d353c2",
   "metadata": {},
   "outputs": [
    {
     "data": {
      "image/png": "[encoded data removed]",
      "text/plain": [
       "<IPython.core.display.Image object>"
      ]
     },
     "execution_count": 31,
     "metadata": {},
     "output_type": "execute_result"
    }
   ],
   "source": [
    "scenes[0].render('ipython', width=600, height=400,quality=10,antialiasing=0.01)\n"
   ]
  },
  {
   "cell_type": "code",
   "execution_count": 40,
   "id": "7496aa62-393b-410b-a96c-fb140bc3609f",
   "metadata": {},
   "outputs": [],
   "source": [
    "for i,s in enumerate(scenes):\n",
    "    s.render(\"scene\"+str(HOURS[i]).zfill(2)+\".png\",width = 600, height=400,antialiasing = 0.01, quality=10) # quality=1 => no shadow/reflection, quality=10 is 'normal'\n"
   ]
  },
  {
   "cell_type": "code",
   "execution_count": null,
   "id": "1bbf3ca8-e751-448e-9cde-5059dca54625",
   "metadata": {},
   "outputs": [],
   "source": []
  }
 ],
 "metadata": {
  "kernelspec": {
   "display_name": "Python 3 (ipykernel)",
   "language": "python",
   "name": "python3"
  },
  "language_info": {
   "codemirror_mode": {
    "name": "ipython",
    "version": 3
   },
   "file_extension": ".py",
   "mimetype": "text/x-python",
   "name": "python",
   "nbconvert_exporter": "python",
   "pygments_lexer": "ipython3",
   "version": "3.9.7"
  }
 },
 "nbformat": 4,
 "nbformat_minor": 5
}
